{
 "cells": [
  {
   "cell_type": "markdown",
   "metadata": {},
   "source": [
    "# Introduction to LangChain and RAG"
   ]
  },
  {
   "cell_type": "markdown",
   "metadata": {},
   "source": [
    "Welcome to the first part of our workshop! In this session, we'll explore how to build AI-powered applications using **LangChain**, a popular framework for developing applications with Large Language Models (LLMs). We'll start with a simple chatbot and then enhance it with Retrieval Augmented Generation (RAG)."
   ]
  },
  {
   "cell_type": "markdown",
   "metadata": {},
   "source": [
    "## Setting Up Our Environment"
   ]
  },
  {
   "cell_type": "markdown",
   "metadata": {},
   "source": [
    "First, we need to set up our environment. We'll use OpenAI's models, so we need an API key. You can define your `OPENAI_API_KEY` in the `.env` file.\n",
    "\n",
    "The code retrieve the key and sets some global configurations:\n",
    "- `LLM_MODEL`: The specific model we'll use\n",
    "- `LLM_TEMPERATURE`: Controls randomness in responses (0 means very deterministic)"
   ]
  },
  {
   "cell_type": "code",
   "execution_count": 1,
   "metadata": {},
   "outputs": [],
   "source": [
    "import os"
   ]
  },
  {
   "cell_type": "code",
   "execution_count": 2,
   "metadata": {},
   "outputs": [],
   "source": [
    "if not os.environ.get(\"OPENAI_API_KEY\"):\n",
    "    raise ValueError(\"Please set OPENAI_API_KEY environment variable\")\n",
    "\n",
    "LLM_MODEL = \"gpt-4o-mini\"\n",
    "LLM_TEMPERATURE = 0"
   ]
  },
  {
   "cell_type": "markdown",
   "metadata": {},
   "source": [
    "## Building a Simple ChatBot"
   ]
  },
  {
   "cell_type": "markdown",
   "metadata": {},
   "source": [
    "Let's start with creating a basic chatbot using **LangChain**. We'll use:\n",
    "- `ChatOpenAI`: The interface to OpenAI's chat models\n",
    "- `SystemMessage`: Defines the bot's behavior and role\n",
    "- `HumanMessage`: Represents user input\n",
    "\n",
    "Our chatbot will act as a Financial Analyst. We'll create it by:\n",
    "1. Instantiating the model\n",
    "2. Defining a system prompt that sets the bot's role\n",
    "3. Sending a user query and getting a response with `.invoke()`\n",
    "\n",
    "This demonstrates the basic pattern of LLM interactions: prompt → response."
   ]
  },
  {
   "cell_type": "code",
   "execution_count": 3,
   "metadata": {},
   "outputs": [],
   "source": [
    "from IPython.display import Markdown\n",
    "from langchain_core.messages import HumanMessage, SystemMessage\n",
    "from langchain_openai import ChatOpenAI"
   ]
  },
  {
   "cell_type": "code",
   "execution_count": 4,
   "metadata": {},
   "outputs": [],
   "source": [
    "# Create a ChatOpenAI instance with the LLM model and temperature\n",
    "base_model = ChatOpenAI(model=LLM_MODEL, temperature=LLM_TEMPERATURE)"
   ]
  },
  {
   "cell_type": "code",
   "execution_count": 5,
   "metadata": {},
   "outputs": [],
   "source": [
    "BASE_PROMPT = \"\"\"\n",
    "You are a Financial Analyst. Do your best to help the client with their request based on your expertise. Give a succinct and clear response.\n",
    "\"\"\""
   ]
  },
  {
   "cell_type": "code",
   "execution_count": 6,
   "metadata": {},
   "outputs": [],
   "source": [
    "# Request from the client\n",
    "request = \"I want to invest in the technology sector. Can you please define an investment strategy?\"\n",
    "\n",
    "# Message list for the base model\n",
    "messages = [\n",
    "    SystemMessage(BASE_PROMPT),\n",
    "    HumanMessage(request),\n",
    "]\n",
    "\n",
    "# Invoke the model with the messages\n",
    "response = base_model.invoke(messages)"
   ]
  },
  {
   "cell_type": "code",
   "execution_count": 7,
   "metadata": {},
   "outputs": [
    {
     "data": {
      "text/markdown": [
       "Certainly! Here’s a succinct investment strategy for the technology sector:\n",
       "\n",
       "1. **Research and Identify Sub-Sectors**: Focus on specific areas within technology, such as cloud computing, artificial intelligence, cybersecurity, or renewable energy tech. Each sub-sector has different growth potentials and risks.\n",
       "\n",
       "2. **Diversification**: Invest in a mix of large-cap, mid-cap, and small-cap tech companies to balance risk and reward. Consider ETFs or mutual funds that focus on technology for broader exposure.\n",
       "\n",
       "3. **Fundamental Analysis**: Evaluate companies based on key metrics such as revenue growth, profit margins, P/E ratios, and market share. Look for companies with strong fundamentals and a competitive edge.\n",
       "\n",
       "4. **Stay Informed**: Keep up with industry trends, technological advancements, and regulatory changes. Follow news sources, industry reports, and earnings calls to stay updated.\n",
       "\n",
       "5. **Risk Management**: Set a clear risk tolerance and use stop-loss orders to protect your investments. Consider the volatility of tech stocks and adjust your portfolio accordingly.\n",
       "\n",
       "6. **Long-Term Perspective**: Technology can be volatile in the short term. Focus on long-term growth potential and be prepared to hold investments through market fluctuations.\n",
       "\n",
       "7. **Regular Review and Rebalance**: Periodically assess your portfolio’s performance and make adjustments based on market conditions and your investment goals.\n",
       "\n",
       "By following this strategy, you can position yourself to capitalize on growth opportunities in the technology sector while managing risk effectively."
      ],
      "text/plain": [
       "<IPython.core.display.Markdown object>"
      ]
     },
     "execution_count": 7,
     "metadata": {},
     "output_type": "execute_result"
    }
   ],
   "source": [
    "Markdown(response.content)"
   ]
  },
  {
   "cell_type": "markdown",
   "metadata": {},
   "source": [
    "## Understanding Retrieval Augmented Generation (RAG)"
   ]
  },
  {
   "cell_type": "markdown",
   "metadata": {},
   "source": [
    "Now comes the exciting part! RAG is a technique that enhances LLM responses by giving them access to external knowledge. Instead of relying solely on the model's training data, we can provide relevant information from our own database."
   ]
  },
  {
   "cell_type": "markdown",
   "metadata": {},
   "source": [
    "### Vector Database Setup"
   ]
  },
  {
   "cell_type": "markdown",
   "metadata": {},
   "source": [
    "To implement RAG, we need:\n",
    "1. A collection of documents (in our case, a currated set of 1'000 articles from Bloomberg financial news)\n",
    "2. A way to search these documents efficiently (vector database)\n",
    "3. A function to retrieve relevant information based on queries\n",
    "\n",
    "Here we use:\n",
    "- `Chroma`: A vector database for storing and retrieving documents\n",
    "- `OpenAIEmbeddings`: Converts text into vector representations"
   ]
  },
  {
   "cell_type": "markdown",
   "metadata": {},
   "source": [
    "Let's first set up the global configuration for our retriever."
   ]
  },
  {
   "cell_type": "code",
   "execution_count": 8,
   "metadata": {},
   "outputs": [],
   "source": [
    "EMBEDDING_MODEL = \"text-embedding-3-small\"\n",
    "RETRIEVAL_K = 3"
   ]
  },
  {
   "cell_type": "markdown",
   "metadata": {},
   "source": [
    "We'll then define helper functions to load our documents and store them in a vector store."
   ]
  },
  {
   "cell_type": "code",
   "execution_count": 9,
   "metadata": {},
   "outputs": [],
   "source": [
    "import pickle\n",
    "\n",
    "from langchain_chroma import Chroma\n",
    "from langchain_core.documents import Document\n",
    "from langchain_openai import OpenAIEmbeddings"
   ]
  },
  {
   "cell_type": "code",
   "execution_count": 10,
   "metadata": {},
   "outputs": [],
   "source": [
    "def load_documents(pickle_filepath: str) -> list[Document]:\n",
    "    \"\"\"Load documents from a pickle file.\"\"\"\n",
    "    with open(pickle_filepath, \"rb\") as file:\n",
    "        return pickle.load(file)\n",
    "\n",
    "\n",
    "def initialize_vector_store(document_chunks: list[Document]) -> Chroma:\n",
    "    \"\"\"Reset the Chroma collection and initialize a vector store using document chunks.\"\"\"\n",
    "    Chroma().reset_collection()\n",
    "    embedding_model = OpenAIEmbeddings(model=EMBEDDING_MODEL)\n",
    "    return Chroma.from_documents(documents=document_chunks, embedding=embedding_model)"
   ]
  },
  {
   "cell_type": "markdown",
   "metadata": {},
   "source": [
    "Let's load our documents and inspect the first one."
   ]
  },
  {
   "cell_type": "code",
   "execution_count": 11,
   "metadata": {},
   "outputs": [],
   "source": [
    "data_dir = \"../data/\"\n",
    "data_file = \"bloomberg_financial_news_1k.pkl\"\n",
    "\n",
    "# Load the Bloomberg documents from the pickle file\n",
    "documents = load_documents(os.path.join(data_dir, data_file))"
   ]
  },
  {
   "cell_type": "code",
   "execution_count": 12,
   "metadata": {},
   "outputs": [
    {
     "data": {
      "text/markdown": [
       "Kuwait Wealth Fund Doubles Investments in U.K. to $24 Billion\n",
       "\n",
       "Kuwait Investment Authority , the country’s sovereign wealth fund, doubled investments in the U.K. over the last 10 years to more than $24 billion. Investment in Britain was “across all asset classes, sectors and industries,” Managing Director Bader Al-Saad said in a speech in London on June 28. Kuwait Investment Office, the KIA’s London-based investment arm, now manages more than $120 billion globally compared with $27 billion 10 years ago. “Alongside the real estate subsidiary, which manages our real estate assets, we have set up an infrastructure fund which we are operating from London,” Al-Saad said. The investment office “will be looking to manage more funds, in more asset classes, and in more regions of the world in the near future,” he said. The KIA, which has about $342 billion of assets according to the Sovereign Wealth Fund Institute in California , holds stakes in Daimler AG and BP Plc. (BP/) The fund manages Kuwait’s General Reserve Fund and Future Generations Fund, and invests in local, Arab and international markets."
      ],
      "text/plain": [
       "<IPython.core.display.Markdown object>"
      ]
     },
     "execution_count": 12,
     "metadata": {},
     "output_type": "execute_result"
    }
   ],
   "source": [
    "doc_str = f\"{documents[0].metadata['Headline']}\\n\\n{documents[0].page_content}\"\n",
    "Markdown(doc_str)"
   ]
  },
  {
   "cell_type": "markdown",
   "metadata": {},
   "source": [
    "### Initializing the Vector Store and the Retriever"
   ]
  },
  {
   "cell_type": "markdown",
   "metadata": {},
   "source": [
    "The vector store and retriever are key components of our RAG system. Here's what happens in this section:\n",
    "\n",
    "- Initialize a new Chroma vector store with these documents\n",
    "- Create a retriever that will fetch the `RETRIEVAL_K` most relevant documents according to their embedding"
   ]
  },
  {
   "cell_type": "code",
   "execution_count": 13,
   "metadata": {},
   "outputs": [],
   "source": [
    "# Initialize the vector store with the documents\n",
    "vector_store = initialize_vector_store(documents)\n",
    "\n",
    "# Create a retriever instance from the vector store\n",
    "retriever = vector_store.as_retriever(search_kwargs={\"k\": RETRIEVAL_K})"
   ]
  },
  {
   "cell_type": "markdown",
   "metadata": {},
   "source": [
    "The retriever acts like a smart search engine - when given a question or topic, it returns the most relevant documents from our database. It does so by finding the documents similar embeddings to the query. In LangChain, this is also done with `.invoke()`. Let's try an example."
   ]
  },
  {
   "cell_type": "code",
   "execution_count": 14,
   "metadata": {},
   "outputs": [],
   "source": [
    "retrieval_query = \"tech sector market trends\"\n",
    "\n",
    "# Invoke the retriever with the retrieval query\n",
    "retrieved_documents = retriever.invoke(retrieval_query)"
   ]
  },
  {
   "cell_type": "code",
   "execution_count": 15,
   "metadata": {},
   "outputs": [
    {
     "data": {
      "text/plain": [
       "[Document(id='822ff4c7-8418-4bf6-841b-6da0284d8e3b', metadata={'Headline': 'ARM Sees Shift to Cheaper Smartphones Boosting Chip Royalty', 'Link': 'http://www.bloomberg.com/news/2013-11-20/arm-sees-shift-toward-cheaper-smartphones-boosting-chip-royalty.html'}, page_content='ARM Holdings Plc (ARM) , the U.K. chip designer whose products power Apple Inc. (AAPL) ’s iPhones, predicts a shift in demand toward lower-priced smartphones will help boost royalty revenue. “There is a shift advantage for ARM as mid-range and entry smartphones drive smartphone growth. We’ve got that dynamic going into next year,” Chief Financial Officer Tim Score said at a conference in Barcelona yesterday. “Those phones generate much more royalty for ARM because they use more silicon.” ARM has had five consecutive years of revenue growth as its designs for chips that control graphics and processing were used in increasingly popular smartphones and tablets. Royalty payments took the spotlight last quarter as they missed analysts’ estimates. ARM shares have fallen almost 9 percent since the earnings report on Oct. 22. “As ARM technology becomes more sophisticated, the royalty percentage goes up,” Score said. “On average, it’s going to very gradually go up.” Global smartphone shipments surged 40 percent last quarter, slowing from 53 percent growth for the previous three-month period, according to researcher IDC. The average selling prices of the devices fell by 13 percent to $317 from a year earlier, because of demand for more affordable handsets. In spite of concerns about slowing growth, especially in China, Score said ARM can continue expanding its customer base and outperforming the semiconductor market in the next five years, driven by cheaper handsets, enterprise networking and micro-controllers. ARM shares fell less than 1 percent to 953.50 pence at 9:16 a.m. in London. New Chief Chief Executive Officer Simon Segars, who succeeded Warren East in July, is confronting a shift in the industry’s growth to low-end smartphones and new entrant Intel Corp. (INTC) , which has begun designing its own chips for mobile phones. ARM, based in Cambridge, England, is also seeking to boost its market share in servers as companies from Facebook Inc. (FB) to Google Inc. (GOOG) look for lower-power machines to drive their data centers. It’s “possible to identify such a market and build a chip specifically for that market, whether it is to handle only storage or only video loading, for example. We can make the chip much more efficient,” Score said at the annual Technology, Media and Telecoms Conference organized by Morgan Stanley. “Everyone knows Intel has a very strong ecosystem around servers, we’re not kidding ourselves,” Score said. “For that reason we see it as further out.”'),\n",
       " Document(id='b41e00ac-8f69-4bda-8681-a79afaf368b2', metadata={'Headline': 'Kony Solutions Weighs Public Offer as Early as This Year', 'Link': 'http://www.bloomberg.com/news/2013-04-16/kony-solutions-weighs-public-offer-as-early-as-this-year.html'}, page_content='Kony Solutions Inc. , a provider of mobile-application platforms, has talked to banks including Goldman Sachs Group Inc. (GS) and JPMorgan Chase & Co. (JPM) about selling shares in a public offering as early as this year. The company, which has its headquarters in Orlando , Florida , as well as in London , plans to select bankers this year after introducing a service that will provide easier access to its app platforms, Chief Executive Officer Raj Koneru said in an interview yesterday. The share sale will take place this year or in 2014, he said. “We are talking with a lot of bankers,” Koneru said. The company hasn’t decided how much stock to sell or the amount of funds to raise, he said. Kony, which has yet to make a profit, expects to record $80 million to $100 million in revenue this year, about double its 2012 sales, Koneru said. An initial public offering could raise at least $120 million for Kony, valuing the company at more than $700 million, Tom Taulli , an analyst who covers IPOs, said in an interview. “Enterprise is really hot right now,” Taulli said. “Right place at the right time -- that always helps with an IPO. I suspect they’ll do well.” Spending on app-development tools for multiple mobile operating systems will grow at an average annual rate of 39 percent to reach $8.2 billion in 2016, according to Smith’s Point Analytics LLC. Founded in 2007, Kony sells annual subscriptions for its app platform-service, which allows developers to customize products to their own specifications. The company has raised about $35 million from Georgian Partners and Insight Venture Partners and may use proceeds from an IPO to improve its software and for research and development, Koneru said.'),\n",
       " Document(id='bff80dfa-1e7b-458a-a823-69188aa87096', metadata={'Headline': 'Hewlett-Packard Rises as Cash Return Anticipated', 'Link': 'http://www.bloomberg.com/news/2013-03-18/hewlett-packard-rises-as-cash-return-anticipated.html'}, page_content='Hewlett-Packard Co. (HPQ) rose to the highest price in 10 months after Morgan Stanley upgraded the shares, citing the potential for the company to return more cash to investors. The shares advanced 2.9 percent to $22.83 at the close in New York, the highest since May 14. The stock has gained 60 percent this year, compared with an 8.8 percent increase for the Standard & Poor’s 500 Index. Hewlett-Packard may generate free cash flow of about $6.7 billion in the 2013 fiscal year, almost 35 percent more than the company’s $5 billion forecast, according to Katy Huberty, an analyst at Morgan Stanley. As Chief Executive Officer Meg Whitman works to revive growth amid a slump in sales of personal-computers, restructuring may result in $2.2 billion in savings by the end of fiscal 2014, Huberty said. “Cash return in the form of a buyback or higher dividend is a likely scenario,” Huberty wrote in a research report today. She upgraded the shares with a buy recommendation and a $27 target price. “Even without revenue growth, we expect HP to grow earnings per share and free cash flow over the next three years.” Hewlett-Packard’s core personal-computer business is shrinking because of competition from lower-priced rivals such as China’s Lenovo Group Ltd. (992) and demand for mobile devices made by companies including Apple Inc. and Samsung Electronics Co. Hewlett-Packard’s enterprise business also is being undermined as companies look for more Internet-based cloud services. Whitman last September said the Palo Alto , California-based company planned to cut 29,000 jobs through the end of the 2014 fiscal year.')]"
      ]
     },
     "metadata": {},
     "output_type": "display_data"
    }
   ],
   "source": [
    "display(retrieved_documents)"
   ]
  },
  {
   "cell_type": "markdown",
   "metadata": {},
   "source": [
    "### Creating the RAG System"
   ]
  },
  {
   "cell_type": "markdown",
   "metadata": {},
   "source": [
    "We can now augment our basic chatbot by providing it access to the retriever using **LangChain** tools, which allow the model to:\n",
    "- Query the document database if needed\n",
    "- Provide an answer based on the retrieved documents"
   ]
  },
  {
   "cell_type": "markdown",
   "metadata": {},
   "source": [
    "#### Creating a tool with LangChain"
   ]
  },
  {
   "cell_type": "markdown",
   "metadata": {},
   "source": [
    "We can create a tool using the `@tool` decorator from **LangChain** and provide it to the model using `.bind_tools()`. The model will receive all the relevant information about the tool thanks to the decorator. This way it knows how it works and can decide when to use it."
   ]
  },
  {
   "cell_type": "code",
   "execution_count": 16,
   "metadata": {},
   "outputs": [],
   "source": [
    "from langchain_core.tools import tool"
   ]
  },
  {
   "cell_type": "code",
   "execution_count": 17,
   "metadata": {},
   "outputs": [],
   "source": [
    "@tool\n",
    "def retrieval(retrieval_query: str) -> list[Document]:\n",
    "    \"\"\"Retrieve documents based on a query.\"\"\"\n",
    "    return retriever.invoke(retrieval_query)\n",
    "\n",
    "\n",
    "# Create a list of tools and a dictionnary of tool functions by name\n",
    "tools = [retrieval]\n",
    "tools_by_name = {tool.name: tool for tool in tools}"
   ]
  },
  {
   "cell_type": "code",
   "execution_count": 18,
   "metadata": {},
   "outputs": [],
   "source": [
    "RAG_PROMPT = \"\"\"\n",
    "You are a Financial Analyst with access to a Bloomberg Financial News database.\n",
    "\n",
    "Query the database to help the client with their request. Give a succinct and clear response based on the information you find.\n",
    "\"\"\"\n",
    "\n",
    "# Create the RAG model by binding the base model with the retrieval tool\n",
    "rag_model = base_model.bind_tools(tools)"
   ]
  },
  {
   "cell_type": "code",
   "execution_count": 19,
   "metadata": {},
   "outputs": [],
   "source": [
    "request = \"I want to invest in the technology sector. Can you please define an investment strategy?\"\n",
    "\n",
    "# Message list for the RAG model\n",
    "messages = [\n",
    "    SystemMessage(RAG_PROMPT),\n",
    "    HumanMessage(request),\n",
    "]\n",
    "\n",
    "# Invoke the RAG model with the messages\n",
    "rag_response = rag_model.invoke(messages)"
   ]
  },
  {
   "cell_type": "markdown",
   "metadata": {},
   "source": [
    "Let's check the answer. As we can see its content is empty, but a tool call has been made."
   ]
  },
  {
   "cell_type": "code",
   "execution_count": 20,
   "metadata": {},
   "outputs": [
    {
     "data": {
      "text/markdown": [
       "Content: \n",
       "\n",
       "Tool Calls: [{'name': 'retrieval', 'args': {'retrieval_query': 'investment strategy technology sector 2023'}, 'id': 'call_tZrrZxb2npwyNbwpXMgFdY6h', 'type': 'tool_call'}]"
      ],
      "text/plain": [
       "<IPython.core.display.Markdown object>"
      ]
     },
     "execution_count": 20,
     "metadata": {},
     "output_type": "execute_result"
    }
   ],
   "source": [
    "Markdown(f\"Content: {rag_response.content}\\n\\nTool Calls: {rag_response.tool_calls}\")"
   ]
  },
  {
   "cell_type": "markdown",
   "metadata": {},
   "source": [
    "Let's use the retrieval tool to retrieve documents following the model's query."
   ]
  },
  {
   "cell_type": "code",
   "execution_count": 21,
   "metadata": {},
   "outputs": [],
   "source": [
    "# Check if the RAG model response contains tool calls\n",
    "if rag_response.tool_calls:\n",
    "    # Get the first tool call from the response\n",
    "    tool_call = rag_response.tool_calls[0]\n",
    "\n",
    "    # Get the tool from the tool call\n",
    "    tool = tools_by_name[tool_call[\"name\"]]\n",
    "\n",
    "    # Invoke the tool with the tool call arguments\n",
    "    documents = tool.invoke(tool_call[\"args\"])\n",
    "\n",
    "    # Combine the retrieved documents into a single string\n",
    "    documents_str = \"\\n\\n\".join(\n",
    "        [f\"{doc.metadata['Headline']}\\n\\n{doc.page_content}\\n\" for doc in documents]\n",
    "    )"
   ]
  },
  {
   "cell_type": "code",
   "execution_count": 22,
   "metadata": {},
   "outputs": [
    {
     "data": {
      "text/markdown": [
       "Mairs & Power’s Frels, Henneman Named Manager of the Year\n",
       "\n",
       "William Frels and Mark Henneman, who run the $2.5 billion Mairs & Power Growth Fund (MPGFX) , were named domestic stock-fund managers of the year by Morningstar Inc. (MORN)  The top honor for international stock funds went to the $1.3 billion Virtus Foreign Opportunities Fund and the $6.8 billion Virtus Emerging Markets Opportunities Fund, both run by Rajiv Jain, Chicago-based Morningstar said in a statement today. The fixed-income winner was Mark Kiesel , manager of the $10.2 billion Pimco Investment Grade Corporate Bond Fund. The six-member team that runs the $1.8 billion TFS Market Neutral Fund (TFSMX) won in the alternatives category. David Giroux of the $13.7 billion T. Rowe Price Capital Appreciation Fund was named allocation fund manager of the year. Both are new categories for the research firm’s awards. The Mairs & Power Growth Fund returned an average of 5.6 percent annually over the past five years, better than 89 percent of peers, according to data compiled by Bloomberg. Last year it returned 22 percent, topping 95 percent of rivals. Of the fund’s largest 25 holdings , 18 were bought in the 1990s and 17 have been in the portfolio for at least 10 years, Morningstar said in the statement. Virtus Emerging Markets Opportunities Fund (HIEMX) gained 3.8 percent annually for the past five years, better than 94 percent of competitors. The fund returned 20 percent in 2012, besting 58 percent of peers, according to the data. Kiesel’s Pimco fund outperformed 91 percent of similar funds over the past five years, returning 10 percent annually. The fund, which topped 77 percent of rivals in 2012, had 17 percent of its money in bank debt as of Sept. 30. Market Neutral TFS Market Neutral Fund gained 4.5 percent annually for the past five years, better than 97 percent of peers. The team’s 7.8 return last year topped 84 percent of rivals, according to data compiled by Bloomberg. Morningstar defines alternative investments as those that don’t fit neatly into traditional stock or fixed-income categories. T. Rowe Price Capital Appreciation gained 6 percent a year for the past five years, ahead of 95 percent of rivals. Its largest holding was Waltham, Massachusetts-based Thermo Fisher Scientific Inc. (TMO) as of Sept. 30, the data show. Giroux’s 15 percent return in 2012 beat 82 percent of the competition.\n",
       "\n",
       "\n",
       "Northern Trust Profit Rises 1.7% as Market Boosts Assets\n",
       "\n",
       "Northern Trust Corp. (NTRS) , the third- biggest independent U.S. custody bank, said first-quarter profit rose 1.7 percent as stock-market gains boosted the value of assets the company oversees. Net income increased to $164 million, or 67 cents per diluted share, from $161.2 million, or 66 cents a share, a year earlier, the Chicago-based company said today in a statement. Results missed the 72-cent average estimate of 16 analysts surveyed by Bloomberg. “We have a better macro backdrop with higher market levels this quarter, and we saw good organic growth across all three” of the largest publicly listed custody banks, Brian Bedell, a New York-based analyst at ISI Group Inc., said in an interview before results were released. The custody banks, under pressure to improve profitability hurt by record-low interest rates, are benefiting as global equity markets climb for the second straight year. Northern Trust, led by Chairman and Chief Executive Officer Frederick H. Waddell, followed larger rivals Bank of New York Mellon Corp. (BK) and State Street Corp. (STT) with job cuts in 2012 that, combined with technology initiatives, are designed to increase annual pretax income by $250 million by the end of this year. The Standard & Poor’s 500 Index (SPX) of U.S. stocks returned 14 percent in the 12 months ended March 31, and global stocks, as measured by the MSCI ACWI Index, advanced 11 percent, with reinvested dividends. Rate Impact Low rates hurt custody banks by reducing the return they make on lending and on their own investments. The U.S. Federal Reserve has held its benchmark interest rate at zero to 0.25 percent since December 2008 in an attempt to stimulate borrowing and economic growth. Custody banks keep records, track performance and lend securities for institutional investors, including mutual funds, pension funds and hedge funds. Northern Trust also manages investments for individuals and institutions. Results were announced before the start of regular U.S. trading. Northern Trust gained 7.3 percent this year through yesterday, compared with a 15 percent advance by the Standard & Poor’s 20-company index of asset managers and custody banks. BNY Mellon is scheduled to released earnings tomorrow, followed by State Street on April 19. (Northern Trust is scheduled to hold a conference call for investors at 10 a.m. New York time. The call can be accessed at http://www.northerntrust/financialreleases .)\n",
       "\n",
       "\n",
       "Fewer U.S. Shares Available Fuels Bull Market: Chart of the Day\n",
       "\n",
       "Repurchases are magnifying gains in U.S. stocks and are poised to lift prices further, according to Pavilion Global Markets Ltd. strategists. As the CHART OF THE DAY shows, the Wilshire 5000 Total Market Index has risen more than the market value of all U.S. companies since the current bull market started in March 2009, according to data compiled by Bloomberg. Through last week, the gap was about 13 percentage points. “The difference comes from a reduction in the number of shares,” Pierre Lapointe , head of global strategy and research at the Montreal-based firm, and two colleagues wrote yesterday in a report. “The resulting de-equitization is giving a boost to this stock-market rally.” S&P 500 calculations are based on 2.3 percent fewer shares than in July 2011, when the total reached its high for the bull market, the strategists estimated. A drop in stock outstanding accounted for 25 percent of the past year’s earnings-per-share growth for companies in the index, they added. Apple Inc., the world’s largest company by market value, increased its stock-buyback program last month by $50 billion. That’s enough to pay for about 12 percent of the Cupertino, California-based company’s shares at their closing price yesterday. The program will run through 2015. “De-equitization is a global phenomenon,” Lapointe and his colleagues added. In most developed markets, FTSE stock indexes rose faster than total market value during the past year, according to their report. This was also the case in Brazil, Mexico and South Korea , three emerging markets.\n"
      ],
      "text/plain": [
       "<IPython.core.display.Markdown object>"
      ]
     },
     "execution_count": 22,
     "metadata": {},
     "output_type": "execute_result"
    }
   ],
   "source": [
    "Markdown(documents_str)"
   ]
  },
  {
   "cell_type": "markdown",
   "metadata": {},
   "source": [
    "We can now add the tool's output to the message chain with `ToolMessage`, so the model can answer based on the retrieved documents.\n",
    "\n",
    "*Note: Here we use the base model instead of the RAG model to limit our agent to one retrieval call. A fully autonomous agent could decide to make subsequent calls to best answer the request*"
   ]
  },
  {
   "cell_type": "code",
   "execution_count": 23,
   "metadata": {},
   "outputs": [],
   "source": [
    "from langchain_core.messages import ToolMessage"
   ]
  },
  {
   "cell_type": "code",
   "execution_count": 24,
   "metadata": {},
   "outputs": [],
   "source": [
    "# Message list with the retrieved documents for the base model\n",
    "messages = [\n",
    "    # RAG System prompt\n",
    "    SystemMessage(RAG_PROMPT),\n",
    "    # Client request\n",
    "    HumanMessage(request),\n",
    "    # RAG model response\n",
    "    rag_response,\n",
    "    # Retrieval tool response\n",
    "    ToolMessage(documents_str, tool_call_id=tool_call[\"id\"]),\n",
    "]\n",
    "\n",
    "# Invoke the base model with the messages\n",
    "response = base_model.invoke(messages)"
   ]
  },
  {
   "cell_type": "code",
   "execution_count": 25,
   "metadata": {},
   "outputs": [
    {
     "data": {
      "text/markdown": [
       "To invest in the technology sector effectively, consider the following investment strategy:\n",
       "\n",
       "1. **Diversification**: Invest across various sub-sectors within technology, such as software, hardware, cybersecurity, and artificial intelligence. This helps mitigate risks associated with sector-specific downturns.\n",
       "\n",
       "2. **Growth Funds**: Consider investing in established growth funds that focus on technology stocks. For example, the Mairs & Power Growth Fund has shown strong performance, returning an average of 5.6% annually over the past five years, outperforming many peers.\n",
       "\n",
       "3. **Long-term Perspective**: Focus on companies with strong fundamentals and a history of innovation. Look for firms that have consistently invested in R&D and have a robust product pipeline.\n",
       "\n",
       "4. **Market Trends**: Stay informed about emerging trends such as cloud computing, 5G technology, and renewable energy tech. These areas are expected to drive growth in the sector.\n",
       "\n",
       "5. **Valuation Metrics**: Use valuation metrics like Price-to-Earnings (P/E) ratios and Price-to-Sales (P/S) ratios to identify undervalued stocks within the sector.\n",
       "\n",
       "6. **Monitor Economic Indicators**: Keep an eye on macroeconomic indicators and interest rates, as these can impact technology stocks significantly.\n",
       "\n",
       "7. **Regular Review**: Periodically review your portfolio to adjust for market changes and ensure alignment with your investment goals.\n",
       "\n",
       "By following this strategy, you can position yourself to capitalize on the growth potential of the technology sector while managing risks effectively."
      ],
      "text/plain": [
       "<IPython.core.display.Markdown object>"
      ]
     },
     "execution_count": 25,
     "metadata": {},
     "output_type": "execute_result"
    }
   ],
   "source": [
    "Markdown(response.content)"
   ]
  },
  {
   "cell_type": "markdown",
   "metadata": {},
   "source": [
    "## Practical Tips"
   ]
  },
  {
   "cell_type": "markdown",
   "metadata": {},
   "source": [
    "- Watch the temperature setting: Lower values (like 0) are usually better for factual responses\n",
    "- Pay attention to the number of retrieved documents (`RETRIEVAL_K`): More isn't always better\n",
    "- The system prompt is crucial: It sets the context and behavior of your bot"
   ]
  },
  {
   "cell_type": "markdown",
   "metadata": {},
   "source": [
    "## Conclusion"
   ]
  },
  {
   "cell_type": "markdown",
   "metadata": {},
   "source": [
    "You just learned how to create a chatbot and augment it with a retrieval tool using **LangChain**, this concludes the first part of our workshop!\n",
    "\n",
    "In the next section, we'll discover **LangGraph** and show how it allows to build sophisticated and flexible LLMs workflows."
   ]
  }
 ],
 "metadata": {
  "kernelspec": {
   "display_name": ".venv",
   "language": "python",
   "name": "python3"
  },
  "language_info": {
   "codemirror_mode": {
    "name": "ipython",
    "version": 3
   },
   "file_extension": ".py",
   "mimetype": "text/x-python",
   "name": "python",
   "nbconvert_exporter": "python",
   "pygments_lexer": "ipython3",
   "version": "3.13.2"
  }
 },
 "nbformat": 4,
 "nbformat_minor": 2
}
