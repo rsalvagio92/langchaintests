{
 "cells": [
  {
   "cell_type": "markdown",
   "metadata": {},
   "source": [
    "# Building a Multi-Agent System with LangGraph"
   ]
  },
  {
   "cell_type": "markdown",
   "metadata": {},
   "source": [
    "Welcome to the second part of our workshop! Now that we've learned the basics of LangChain and RAG, we'll explore how to build more sophisticated AI applications using **LangGraph**. We'll create a multi-agent system where different AI agents collaborate to provide comprehensive financial analysis."
   ]
  },
  {
   "cell_type": "markdown",
   "metadata": {},
   "source": [
    "## Setting Up Our Environment"
   ]
  },
  {
   "cell_type": "markdown",
   "metadata": {},
   "source": [
    "Just like in our previous session, we need to set up our environment with the necessary imports and configurations. We'll use the same OpenAI models and Bloomberg news database, but we'll add some new components for our multi-agent system."
   ]
  },
  {
   "cell_type": "markdown",
   "metadata": {},
   "source": [
    "#### Global configuration"
   ]
  },
  {
   "cell_type": "code",
   "execution_count": 1,
   "metadata": {},
   "outputs": [],
   "source": [
    "import os\n",
    "\n",
    "from IPython.display import Markdown"
   ]
  },
  {
   "cell_type": "code",
   "execution_count": 2,
   "metadata": {},
   "outputs": [],
   "source": [
    "if not os.environ.get(\"OPENAI_API_KEY\"):\n",
    "    raise ValueError(\"Please set OPENAI_API_KEY environment variable\")\n",
    "\n",
    "LLM_MODEL = \"gpt-4o-mini\"\n",
    "LLM_TEMPERATURE = 0\n",
    "\n",
    "EMBEDDING_MODEL = \"text-embedding-3-small\"\n",
    "RETRIEVAL_K = 3"
   ]
  },
  {
   "cell_type": "markdown",
   "metadata": {},
   "source": [
    "#### Base model"
   ]
  },
  {
   "cell_type": "code",
   "execution_count": 3,
   "metadata": {},
   "outputs": [],
   "source": [
    "from langchain_openai import ChatOpenAI"
   ]
  },
  {
   "cell_type": "code",
   "execution_count": 4,
   "metadata": {},
   "outputs": [],
   "source": [
    "# Create a ChatOpenAI instance with the LLM model and temperature\n",
    "base_model = ChatOpenAI(model=LLM_MODEL, temperature=LLM_TEMPERATURE)"
   ]
  },
  {
   "cell_type": "markdown",
   "metadata": {},
   "source": [
    "#### Vector Store and Retriever"
   ]
  },
  {
   "cell_type": "code",
   "execution_count": 5,
   "metadata": {},
   "outputs": [],
   "source": [
    "import pickle\n",
    "\n",
    "from langchain_chroma import Chroma\n",
    "from langchain_core.documents import Document\n",
    "from langchain_openai import OpenAIEmbeddings"
   ]
  },
  {
   "cell_type": "code",
   "execution_count": 6,
   "metadata": {},
   "outputs": [],
   "source": [
    "def load_documents(pickle_filepath: str) -> list[Document]:\n",
    "    \"\"\"Load documents from a pickle file.\"\"\"\n",
    "    with open(pickle_filepath, \"rb\") as file:\n",
    "        return pickle.load(file)\n",
    "\n",
    "\n",
    "def initialize_vector_store(document_chunks: list[Document]) -> Chroma:\n",
    "    \"\"\"Reset the Chroma collection and initialize a vector store using document chunks.\"\"\"\n",
    "    Chroma().reset_collection()\n",
    "    embedding_model = OpenAIEmbeddings(model=EMBEDDING_MODEL)\n",
    "    return Chroma.from_documents(documents=document_chunks, embedding=embedding_model)\n",
    "\n",
    "\n",
    "data_dir = \"../data/\"\n",
    "data_file = \"bloomberg_financial_news_1k.pkl\"\n",
    "\n",
    "# Load the Bloomberg documents from the pickle file\n",
    "documents = load_documents(os.path.join(data_dir, data_file))\n",
    "\n",
    "# Initialize the vector store with the documents\n",
    "vector_store = initialize_vector_store(documents)\n",
    "\n",
    "# Create a retriever instance from the vector store\n",
    "retriever = vector_store.as_retriever(search_kwargs={\"k\": RETRIEVAL_K})"
   ]
  },
  {
   "cell_type": "markdown",
   "metadata": {},
   "source": [
    "#### Tools"
   ]
  },
  {
   "cell_type": "code",
   "execution_count": 7,
   "metadata": {},
   "outputs": [],
   "source": [
    "from langchain_core.tools import tool"
   ]
  },
  {
   "cell_type": "code",
   "execution_count": 8,
   "metadata": {},
   "outputs": [],
   "source": [
    "@tool\n",
    "def retrieval(retrieval_query: str) -> list[Document]:\n",
    "    \"\"\"Retrieve documents based on a query.\"\"\"\n",
    "    return retriever.invoke(retrieval_query)\n",
    "\n",
    "\n",
    "# Create a list of tools and a dictionnary of tool functions by name\n",
    "tools = [retrieval]\n",
    "tools_by_name = {tool.name: tool for tool in tools}"
   ]
  },
  {
   "cell_type": "markdown",
   "metadata": {},
   "source": [
    "## Understanding the Multi-Agent Workflow"
   ]
  },
  {
   "cell_type": "markdown",
   "metadata": {},
   "source": [
    "Our system consists of three specialized agents working together:\n",
    "1. **Client Interface Agent (CIA)**: Analyzes client requests and plans research tasks\n",
    "2. **Bloomberg Research Agent (BRA)**: Conducts specific research using the Bloomberg news database\n",
    "3. **Research Synthesis Agent (RSA)**: Synthesizes research into final recommendations"
   ]
  },
  {
   "cell_type": "markdown",
   "metadata": {},
   "source": [
    "To build our workflow with **LangGraph**, we need to implements functions that receive the current state and return state updates. These functions represent the nodes of the graph. Each node is assigned a label.\n",
    "\n",
    "We'll use the following names for our nodes:\n",
    "- Node with **CIA**: `\"orchestrator\"`\n",
    "- Node with **BRA**: `\"worker\"`\n",
    "- Node with **RSA**: `\"synthesizer\"`\n",
    "\n",
    "![Financial Assistant Workflow](../imgs/financial-assistant-workflow.png)"
   ]
  },
  {
   "cell_type": "markdown",
   "metadata": {},
   "source": [
    "## LangGraph Workflow and State"
   ]
  },
  {
   "cell_type": "markdown",
   "metadata": {},
   "source": [
    "**LangGraph** helps us manage communication between our agents efficiently by defining a `State` class that will convey information from a node to the next during execution.\n",
    "\n",
    "We keep our state simple by including only two attributes, but it's possible to include more:\n",
    "- Messages: The ongoing conversation chain\n",
    "- Analyses: Research findings from our agents\n",
    "\n",
    "We use Python's dataclasses with special annotations (`Annotated`) to define how the state attributes should be updated throughout the workflow."
   ]
  },
  {
   "cell_type": "code",
   "execution_count": 9,
   "metadata": {},
   "outputs": [],
   "source": [
    "import operator\n",
    "from dataclasses import dataclass, field\n",
    "from typing import Annotated\n",
    "\n",
    "from langchain_core.messages import BaseMessage\n",
    "from langgraph.graph.message import add_messages"
   ]
  },
  {
   "cell_type": "code",
   "execution_count": 10,
   "metadata": {},
   "outputs": [],
   "source": [
    "@dataclass(kw_only=True)\n",
    "class State:\n",
    "    \"\"\"Graph state for the financial analysis workflow.\"\"\"\n",
    "\n",
    "    messages: Annotated[list[BaseMessage], add_messages] = field(default_factory=list)\n",
    "    analyses: Annotated[list[str], operator.add] = field(default_factory=list)"
   ]
  },
  {
   "cell_type": "markdown",
   "metadata": {},
   "source": [
    "## The Agents in Detail"
   ]
  },
  {
   "cell_type": "markdown",
   "metadata": {},
   "source": [
    "### Client Interface Agent (CIA)"
   ]
  },
  {
   "cell_type": "markdown",
   "metadata": {},
   "source": [
    "The CIA serves as our system's orchestrator. It:\n",
    "- Evaluates client requests\n",
    "- Determines if requests are within scope\n",
    "- Breaks down the request into specific tasks to be conducted by the Bloomberg Research Agents"
   ]
  },
  {
   "cell_type": "markdown",
   "metadata": {},
   "source": [
    "#### Structured Outputs with Pydantic"
   ]
  },
  {
   "cell_type": "markdown",
   "metadata": {},
   "source": [
    "Leveraging **Pydantic**, **LangChain** allows to constrain the output of a model using `.with_structured_output()`. Similarly to `.bind_tools()`, this provides the model with all the relevant information to structure its output in the desired way.\n",
    "\n",
    "We define two structured outputs:\n",
    "- ResearchTask: Defines specific research objectives\n",
    "- OrchestratorDecision: Helps the CIA answer the client's request and plan the research tasks\n",
    "\n",
    "This approach helps maintain consistency and reliability during our workflow execution."
   ]
  },
  {
   "cell_type": "code",
   "execution_count": 11,
   "metadata": {},
   "outputs": [],
   "source": [
    "from pydantic import BaseModel, Field"
   ]
  },
  {
   "cell_type": "code",
   "execution_count": 12,
   "metadata": {},
   "outputs": [],
   "source": [
    "class ResearchTask(BaseModel):\n",
    "    \"\"\"Task for the financial analysis workflow.\"\"\"\n",
    "\n",
    "    topic: str = Field(description=\"Topic of the research task.\")\n",
    "    description: str = Field(\n",
    "        description=\"Brief description of the task and its objectives.\"\n",
    "    )\n",
    "\n",
    "\n",
    "class OrchestratorDecision(BaseModel):\n",
    "    \"\"\"List of research tasks for the financial analysis workflow.\"\"\"\n",
    "\n",
    "    response: str = Field(description=\"Rationale for the decision and research tasks.\")\n",
    "    in_scope: bool = Field(\n",
    "        description=\"Wether the client request is in scope for the financial analysis.\"\n",
    "    )\n",
    "    research_tasks: list[ResearchTask] | None = Field(\n",
    "        description=\"List of research tasks to be completed.\"\n",
    "    )"
   ]
  },
  {
   "cell_type": "markdown",
   "metadata": {},
   "source": [
    "Now that the we defined our structured output, we can instanciate our CIA model using `.with_structured_output()`."
   ]
  },
  {
   "cell_type": "code",
   "execution_count": 13,
   "metadata": {},
   "outputs": [],
   "source": [
    "CIA_PROMPT = \"\"\"\n",
    "You are a Client Interface Agent (CIA) in a financial analysis system. You have multiple Research Agents with access to Bloomberg Financial News under your supervision.\n",
    "\n",
    "Given a client request, provide a concise, polite and professional response regarding the feasibility of the request and the approach that will be taken to address it.\n",
    "\n",
    "If the user's request is addressable, create a short list of highly specific research topics that the Research Agents will investigate to fulfill the client's request.\n",
    "\"\"\"\n",
    "\n",
    "# Create the CIA model from the base model with structured output\n",
    "cia_model = base_model.with_structured_output(OrchestratorDecision)"
   ]
  },
  {
   "cell_type": "markdown",
   "metadata": {},
   "source": [
    "#### Defining the Nodes and Flow"
   ]
  },
  {
   "cell_type": "markdown",
   "metadata": {},
   "source": [
    "Let's now define our first graph Node. This section encompasses multiple **LangGraph** concepts at once and is worth spending some time on.\n",
    "\n",
    "1. Defining the node:\n",
    "    - To define our orchestrator node, we implement a function that receives the graph state and apply operations on it\n",
    "    - In this case, the `\"orchestrator\"` calls the CIA model with structured output on the user request.\n",
    "\n",
    "2. Defining the flow:\n",
    "    - In December, **LangGraph** released [`Command`](https://blog.langchain.dev/command-a-new-tool-for-multi-agent-architectures-in-langgraph/), a novel way of defining the graph edges  directly within the nodes.\n",
    "    - `Command` can return both state updates (`update`) and the next node (`goto`).\n",
    "    - In the following example, the `\"orchestrator\"` node updates the state messages with the CIA's response.\n",
    "    - If the user request is out of scope, it terminates the workflow by going to the `END` node.\n",
    "    - Otherwise, it goes to a dynamically generated number of `\"worker\"` nodes and provide them each with a `ResearchTask`.\n",
    "\n",
    "3. Dynamic number of nodes:\n",
    "    - Instead of returning a single string in `Command` we return a list.\n",
    "    - One worker is created for each research task defined by the CIA.\n",
    "    - Each worker will receive a different `ResearchTask` input using [`Send`](https://langchain-ai.github.io/langgraph/concepts/low_level/#send)"
   ]
  },
  {
   "cell_type": "code",
   "execution_count": 14,
   "metadata": {},
   "outputs": [],
   "source": [
    "from typing import Literal\n",
    "\n",
    "from langchain_core.messages import SystemMessage\n",
    "from langgraph.constants import Send\n",
    "from langgraph.graph import END\n",
    "from langgraph.types import Command"
   ]
  },
  {
   "cell_type": "code",
   "execution_count": 15,
   "metadata": {},
   "outputs": [],
   "source": [
    "# Define the CIA orchestrator with the next node options\n",
    "def orchestrator_node(state: State) -> Command[Literal[\"worker\", END]]:\n",
    "    \"\"\"Orchestrator that generates a plan for the report.\"\"\"\n",
    "    display(Markdown(f\"**Client request received**: {state.messages[-1].content}\"))\n",
    "\n",
    "    # Message list for the CIA model\n",
    "    messages = [\n",
    "        SystemMessage(CIA_PROMPT),\n",
    "        *state.messages,\n",
    "    ]\n",
    "\n",
    "    # Invoke the CIA model\n",
    "    cia_output = cia_model.invoke(messages)\n",
    "\n",
    "    display(Markdown(f\"**CIA Response:** {cia_output.response}\"))\n",
    "\n",
    "    return Command(\n",
    "        # Update the state messages with the CIA response\n",
    "        update={\"messages\": cia_output.response},\n",
    "        # Go to worker nodes if the request is in scope, otherwise end the workflow\n",
    "        goto=[Send(\"worker\", task) for task in cia_output.research_tasks]\n",
    "        if cia_output.in_scope\n",
    "        else END,\n",
    "    )"
   ]
  },
  {
   "cell_type": "markdown",
   "metadata": {},
   "source": [
    "### Bloomberg Research Agent (BRA)"
   ]
  },
  {
   "cell_type": "markdown",
   "metadata": {},
   "source": [
    "The BRA is our research specialist that:\n",
    "- Receives specific research tasks from the CIA\n",
    "- Queries the Bloomberg news database\n",
    "- Synthesizes findings into concise research reports\n",
    "\n",
    "This node works identically to the RAG from the first notebook."
   ]
  },
  {
   "cell_type": "code",
   "execution_count": 16,
   "metadata": {},
   "outputs": [],
   "source": [
    "from langchain_core.messages import HumanMessage, ToolMessage"
   ]
  },
  {
   "cell_type": "code",
   "execution_count": 17,
   "metadata": {},
   "outputs": [],
   "source": [
    "BRA_PROMPT = \"\"\"\n",
    "You are a Research Agent in a financial analysis system. You are tasked with writing a concise research report on a specific topic provided by the Client Interface Agent (CIA) based on available documents.\n",
    "\n",
    "To do so, you have access to a Bloomberg Financial News database that you can query. You should query the vector store for documents relevant to your task and write a concise summary of the information you find.\n",
    "\n",
    "Your report should be short and informative, conveying only the most important information from the documents, to allow a Synthesis Agent to quickly generate a report for the client based on the findings of all Research Agents.\n",
    "\"\"\"\n",
    "\n",
    "# Create the BRA model from the base model with tool binding\n",
    "bra_model = base_model.bind_tools(tools)"
   ]
  },
  {
   "cell_type": "code",
   "execution_count": 18,
   "metadata": {},
   "outputs": [],
   "source": [
    "# Define the worker node and the next node options\n",
    "def worker_node(task: ResearchTask) -> Command[Literal[\"synthesizer\"]]:\n",
    "    \"\"\"Research agent that can query the vector store for relevant documents.\"\"\"\n",
    "    display(Markdown(f\"**Researching task**: {task.topic}\"))\n",
    "\n",
    "    # Access the task topic and description from the research task\n",
    "    topic = task.topic\n",
    "    description = task.description\n",
    "\n",
    "    # Create a string with the research task topic and description\n",
    "    task_str = f\"Research Task: {topic}\\n\\n Description: {description}\"\n",
    "\n",
    "    # Message list for the BRA model\n",
    "    messages = [\n",
    "        SystemMessage(BRA_PROMPT),\n",
    "        HumanMessage(task_str),\n",
    "    ]\n",
    "\n",
    "    # Invoke the BRA model with the messages\n",
    "    bra_output = bra_model.invoke(messages)\n",
    "\n",
    "    # If the BRA model made tool calls, invoke the tool\n",
    "    if bra_output.tool_calls:\n",
    "        tool_call = bra_output.tool_calls[0]\n",
    "        tool = tools_by_name[tool_call[\"name\"]]\n",
    "        documents = tool.invoke(tool_call[\"args\"])\n",
    "\n",
    "        display(\n",
    "            Markdown(\n",
    "                f\"**Retrieved documents**: {[doc.metadata['Headline'] for doc in documents]}\"\n",
    "            )\n",
    "        )\n",
    "\n",
    "        # Combine the retrieved documents into a single string\n",
    "        documents_str = \"\\n\\n\".join(\n",
    "            [f\"{doc.metadata['Headline']}\\n\\n{doc.page_content}\\n\" for doc in documents]\n",
    "        )\n",
    "\n",
    "        # Message list with the retrieved documents for the base model\n",
    "        messages = [\n",
    "            SystemMessage(BRA_PROMPT),\n",
    "            HumanMessage(task_str),\n",
    "            bra_output,\n",
    "            ToolMessage(documents_str, tool_call_id=tool_call[\"id\"]),\n",
    "        ]\n",
    "\n",
    "        # Invoke the base model with the messages\n",
    "        bra_output = base_model.invoke(messages)\n",
    "\n",
    "    # Update the state analyses with the BRA output content and go to the synthesizer node\n",
    "    # NOTE: To update `analyses` you should return a list\n",
    "    return Command(\n",
    "        update={\"analyses\": [bra_output.content]},\n",
    "        goto=\"synthesizer\",\n",
    "    )"
   ]
  },
  {
   "cell_type": "markdown",
   "metadata": {},
   "source": [
    "### Research Synthesis Agent (RSA)\n",
    "The RSA is our final processing layer that:\n",
    "- Collects all research findings\n",
    "- Cross-references different analyses\n",
    "- Creates a cohesive final report for the client\n",
    "\n",
    "It does not make use of tools nor structured outputs and should return an answer to the client based on the analyses in the state."
   ]
  },
  {
   "cell_type": "code",
   "execution_count": 19,
   "metadata": {},
   "outputs": [],
   "source": [
    "from langchain_core.messages import AIMessage"
   ]
  },
  {
   "cell_type": "code",
   "execution_count": 20,
   "metadata": {},
   "outputs": [],
   "source": [
    "RSA_PROMPT = \"\"\"\n",
    "You are a Research Synthesis Agent (RSA) in a financial analysis system. You receive the reports from multiple Bloomberg Research Agents, and are tasked with synthesizing the information these reports contain into a final report for the client.\n",
    "\n",
    "The final report should be based on the information provided by the Research Agents, covering their findings in a clear and concise manner to address the client's request.\n",
    "\"\"\""
   ]
  },
  {
   "cell_type": "code",
   "execution_count": 21,
   "metadata": {},
   "outputs": [],
   "source": [
    "# Define the synthesizer node and the next node options\n",
    "def synthesizer_node(state: State) -> Command[Literal[END]]:\n",
    "    \"\"\"Synthesize full report from research analyses.\"\"\"\n",
    "    display(Markdown(f\"**Synthesizing research from {len(state.analyses)} BRAs.**\"))\n",
    "\n",
    "    # Access the research analyses from the state\n",
    "    analyses = state.analyses\n",
    "\n",
    "    # Combine the research analyses into a single string\n",
    "    complete_analyses = \"\\n\\n---\\n\\n\".join(analyses)\n",
    "\n",
    "    # Message list for the RSA model\n",
    "    messages = [\n",
    "        SystemMessage(RSA_PROMPT),\n",
    "        *state.messages,\n",
    "        AIMessage(complete_analyses),\n",
    "    ]\n",
    "\n",
    "    # Invoke the base model with the messages\n",
    "    rsa_output = base_model.invoke(messages)\n",
    "\n",
    "    # Update the state messages with the RSA output content and end the workflow\n",
    "    return Command(\n",
    "        update={\"messages\": rsa_output},\n",
    "        goto=END,\n",
    "    )"
   ]
  },
  {
   "cell_type": "markdown",
   "metadata": {},
   "source": [
    "## Building the Workflow Graph"
   ]
  },
  {
   "cell_type": "markdown",
   "metadata": {},
   "source": [
    "Now that our nodes and communication flow are defined, we can build the graph!"
   ]
  },
  {
   "cell_type": "code",
   "execution_count": 22,
   "metadata": {},
   "outputs": [],
   "source": [
    "from IPython.display import Image\n",
    "from langgraph.graph import StateGraph"
   ]
  },
  {
   "cell_type": "code",
   "execution_count": 23,
   "metadata": {},
   "outputs": [],
   "source": [
    "# Create a state graph builder\n",
    "graph_builder = StateGraph(State)\n",
    "\n",
    "# Define the entry point\n",
    "graph_builder.set_entry_point(\"orchestrator\")\n",
    "\n",
    "# Add the nodes\n",
    "graph_builder.add_node(\"orchestrator\", orchestrator_node)\n",
    "graph_builder.add_node(\"worker\", worker_node)\n",
    "graph_builder.add_node(\"synthesizer\", synthesizer_node)\n",
    "\n",
    "# The edges are defined by the commands !\n",
    "\n",
    "# Compile the workflow\n",
    "app = graph_builder.compile()"
   ]
  },
  {
   "cell_type": "markdown",
   "metadata": {},
   "source": [
    "Let's visualize our Financial Analyst graph. Note that because the number of `\"worker\"` nodes is generated dynamically, it shows up as a single node in the image."
   ]
  },
  {
   "cell_type": "code",
   "execution_count": 24,
   "metadata": {},
   "outputs": [
    {
     "data": {
      "image/png": "[encoded data removed]",
      "text/plain": [
       "<IPython.core.display.Image object>"
      ]
     },
     "metadata": {},
     "output_type": "display_data"
    }
   ],
   "source": [
    "display(Image(app.get_graph().draw_mermaid_png()))"
   ]
  },
  {
   "cell_type": "markdown",
   "metadata": {},
   "source": [
    "## Running the Workflow"
   ]
  },
  {
   "cell_type": "markdown",
   "metadata": {},
   "source": [
    "Now that our workflow is built, let's test it! Once again, we can run it with `.invoke()`."
   ]
  },
  {
   "cell_type": "code",
   "execution_count": 25,
   "metadata": {},
   "outputs": [
    {
     "data": {
      "text/markdown": [
       "**Client request received**: I want to invest in the technology sector. Can you please define an investment strategy?"
      ],
      "text/plain": [
       "<IPython.core.display.Markdown object>"
      ]
     },
     "metadata": {},
     "output_type": "display_data"
    },
    {
     "data": {
      "text/markdown": [
       "**CIA Response:** Your request for an investment strategy in the technology sector is certainly in scope. We will focus on identifying key trends, potential growth areas, and risk factors within the sector to formulate a comprehensive strategy. Our Research Agents will investigate the following specific topics:"
      ],
      "text/plain": [
       "<IPython.core.display.Markdown object>"
      ]
     },
     "metadata": {},
     "output_type": "display_data"
    },
    {
     "data": {
      "text/markdown": [
       "**Researching task**: Top Performing Technology Stocks"
      ],
      "text/plain": [
       "<IPython.core.display.Markdown object>"
      ]
     },
     "metadata": {},
     "output_type": "display_data"
    },
    {
     "data": {
      "text/markdown": [
       "**Researching task**: Current Trends in Technology Investments"
      ],
      "text/plain": [
       "<IPython.core.display.Markdown object>"
      ]
     },
     "metadata": {},
     "output_type": "display_data"
    },
    {
     "data": {
      "text/markdown": [
       "**Researching task**: Risk Assessment in Technology Sector"
      ],
      "text/plain": [
       "<IPython.core.display.Markdown object>"
      ]
     },
     "metadata": {},
     "output_type": "display_data"
    },
    {
     "data": {
      "text/markdown": [
       "**Researching task**: Investment Strategies for Technology Sector"
      ],
      "text/plain": [
       "<IPython.core.display.Markdown object>"
      ]
     },
     "metadata": {},
     "output_type": "display_data"
    },
    {
     "data": {
      "text/markdown": [
       "**Retrieved documents**: ['Mairs & Power’s Frels, Henneman Named Manager of the Year', 'Fewer U.S. Shares Available Fuels Bull Market: Chart of the Day', 'Hewlett-Packard Rises as Cash Return Anticipated']"
      ],
      "text/plain": [
       "<IPython.core.display.Markdown object>"
      ]
     },
     "metadata": {},
     "output_type": "display_data"
    },
    {
     "data": {
      "text/markdown": [
       "**Retrieved documents**: ['Mairs & Power’s Frels, Henneman Named Manager of the Year', 'Fewer U.S. Shares Available Fuels Bull Market: Chart of the Day', 'Samsung Boosting Venture-Capital Funding to $1.1 Billion']"
      ],
      "text/plain": [
       "<IPython.core.display.Markdown object>"
      ]
     },
     "metadata": {},
     "output_type": "display_data"
    },
    {
     "data": {
      "text/markdown": [
       "**Retrieved documents**: ['UBS’s Weber Sees Volatile Markets in 2013 on Political Risks', 'M&A Isn’t Likely to Stage ‘Major’ Recovery Yet, Shafir Says', 'IMF’s Lipton Urges More Banking Clean-Up to Sustain Global Rally']"
      ],
      "text/plain": [
       "<IPython.core.display.Markdown object>"
      ]
     },
     "metadata": {},
     "output_type": "display_data"
    },
    {
     "data": {
      "text/markdown": [
       "**Retrieved documents**: [\"Obama's Budget Has Bad News for Shareholders\", 'Mairs & Power’s Frels, Henneman Named Manager of the Year', 'Ceragon Jumps Most in 1 Month on Order: Israel Overnight']"
      ],
      "text/plain": [
       "<IPython.core.display.Markdown object>"
      ]
     },
     "metadata": {},
     "output_type": "display_data"
    },
    {
     "data": {
      "text/markdown": [
       "**Synthesizing research from 4 BRAs.**"
      ],
      "text/plain": [
       "<IPython.core.display.Markdown object>"
      ]
     },
     "metadata": {},
     "output_type": "display_data"
    }
   ],
   "source": [
    "request = \"I want to invest in the technology sector. Can you please define an investment strategy?\"\n",
    "\n",
    "# Invoke the workflow with the client request\n",
    "final_state = app.invoke({\"messages\": request})"
   ]
  },
  {
   "cell_type": "code",
   "execution_count": 26,
   "metadata": {},
   "outputs": [
    {
     "data": {
      "text/markdown": [
       "### Final Investment Strategy Report: Technology Sector\n",
       "\n",
       "#### Executive Summary\n",
       "This report synthesizes insights from recent analyses of the technology sector, focusing on key trends, top-performing stocks, risk factors, and recommended investment strategies. The technology sector remains a dynamic and promising area for investment, driven by innovation and evolving market demands.\n",
       "\n",
       "---\n",
       "\n",
       "### Key Trends in the Technology Sector\n",
       "\n",
       "1. **Artificial Intelligence (AI) and Machine Learning**: Investment in AI technologies is surging, with applications across various industries enhancing efficiency and innovation.\n",
       "\n",
       "2. **Cybersecurity**: As digital threats increase, cybersecurity solutions are becoming essential, attracting significant venture capital.\n",
       "\n",
       "3. **Cloud Computing**: The transition to cloud services continues to grow, with strong demand for scalable and remote solutions.\n",
       "\n",
       "4. **Fintech**: Innovations in financial technology, including blockchain and digital banking, are reshaping the financial landscape and drawing investor interest.\n",
       "\n",
       "5. **Sustainable Technologies**: There is a notable shift towards clean technology and renewable energy investments, driven by sustainability concerns.\n",
       "\n",
       "6. **Health Tech**: The pandemic has accelerated growth in telehealth and digital health solutions, making this a key area for investment.\n",
       "\n",
       "7. **Emerging Markets**: Investors are increasingly looking at emerging markets for technology investments, particularly in regions undergoing rapid digital transformation.\n",
       "\n",
       "---\n",
       "\n",
       "### Top Performing Technology Stocks\n",
       "\n",
       "1. **Hewlett-Packard Co. (HPQ)**\n",
       "   - **Performance**: HPQ shares have increased by 60% this year, significantly outperforming the S&P 500.\n",
       "   - **Outlook**: Expected to generate $6.7 billion in free cash flow, with potential for increased dividends or buybacks.\n",
       "\n",
       "2. **Apple Inc. (AAPL)**\n",
       "   - **Performance**: AAPL remains a market leader, actively increasing its stock buyback program.\n",
       "   - **Outlook**: Continued buybacks are expected to support stock prices and enhance shareholder value.\n",
       "\n",
       "---\n",
       "\n",
       "### Risk Assessment\n",
       "\n",
       "#### Market Volatility\n",
       "The technology sector is highly susceptible to market fluctuations influenced by economic conditions and geopolitical events. Investors should prepare for potential volatility and adjust their strategies accordingly.\n",
       "\n",
       "#### Regulatory Challenges\n",
       "Increasing regulatory scrutiny poses risks, particularly regarding data privacy and antitrust issues. Investors must stay informed about regulatory developments that could impact technology firms.\n",
       "\n",
       "---\n",
       "\n",
       "### Recommended Investment Strategies\n",
       "\n",
       "1. **Growth Investing**: Focus on companies with high growth potential, such as those in AI and cybersecurity. Funds like the Mairs & Power Growth Fund exemplify this approach, emphasizing long-term holdings in established tech companies.\n",
       "\n",
       "2. **Value Investing**: Identify undervalued tech stocks with strong fundamentals. This strategy can provide opportunities during market corrections when stocks may be trading below their intrinsic value.\n",
       "\n",
       "3. **Diversification**: Mitigate risks by diversifying investments across various technology sub-sectors. Companies like Samsung exemplify this strategy through venture capital funding in emerging technologies.\n",
       "\n",
       "---\n",
       "\n",
       "### Conclusion\n",
       "Investing in the technology sector offers substantial opportunities, driven by innovation and market demand. By focusing on growth and value investing while maintaining a diversified portfolio, investors can navigate the complexities of this dynamic sector. Awareness of market volatility and regulatory challenges will further enhance investment decision-making."
      ],
      "text/plain": [
       "<IPython.core.display.Markdown object>"
      ]
     },
     "execution_count": 26,
     "metadata": {},
     "output_type": "execute_result"
    }
   ],
   "source": [
    "Markdown(final_state[\"messages\"][-1].content)"
   ]
  },
  {
   "cell_type": "markdown",
   "metadata": {},
   "source": [
    "## Practical Tips\n",
    "\n",
    "- Keep agent roles clearly defined and specialized\n",
    "- Use structured outputs to ensure reliable communication\n",
    "- Monitor the workflow graph for potential bottlenecks"
   ]
  },
  {
   "cell_type": "markdown",
   "metadata": {},
   "source": [
    "## Conclusion\n",
    "\n",
    "You've now learned how to build a sophisticated multi-agent system using **LangGraph**! This approach allows for:\n",
    "- More complex and nuanced analysis\n",
    "- Better division of responsibilities\n",
    "- Scalable AI applications\n",
    "\n",
    "Feel free to experiment with different agent configurations and workflow patterns to suit your specific needs."
   ]
  }
 ],
 "metadata": {
  "kernelspec": {
   "display_name": ".venv",
   "language": "python",
   "name": "python3"
  },
  "language_info": {
   "codemirror_mode": {
    "name": "ipython",
    "version": 3
   },
   "file_extension": ".py",
   "mimetype": "text/x-python",
   "name": "python",
   "nbconvert_exporter": "python",
   "pygments_lexer": "ipython3",
   "version": "3.13.2"
  }
 },
 "nbformat": 4,
 "nbformat_minor": 2
}
