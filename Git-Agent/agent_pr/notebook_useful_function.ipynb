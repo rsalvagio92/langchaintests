{
 "cells": [
  {
   "cell_type": "code",
   "execution_count": 1,
   "metadata": {},
   "outputs": [],
   "source": [
    "import os\n",
    "from dotenv import load_dotenv\n",
    "\n",
    "load_dotenv()\n",
    "openai_api_key = os.getenv(\"OPENAI_API_KEY\")\n",
    "GITHUB_TOKEN = os.getenv(\"GITHUB_TOKEN\")\n",
    "if not GITHUB_TOKEN:\n",
    "    raise ValueError(\"No GITHUB_TOKEN variable\")\n",
    "\n",
    "REPO_NAME = \"rsalvagio92/Wild-Nomad\""
   ]
  },
  {
   "cell_type": "code",
   "execution_count": null,
   "metadata": {},
   "outputs": [],
   "source": [
    "from github import Github\n",
    "\n",
    "# Initialize with token\n",
    "g = Github(\"your_token\")\n",
    "\n",
    "# Repository Operations\n",
    "repo = g.get_repo(\"username/repo\")"
   ]
  },
  {
   "cell_type": "code",
   "execution_count": null,
   "metadata": {},
   "outputs": [],
   "source": [
    "# Create Pull Request\n",
    "pr = repo.create_pull(\n",
    "title=\"Feature: New Component\",\n",
    "body=\"Adds new feature\",\n",
    "head=\"feature-branch\",\n",
    "base=\"main\"\n",
    ")"
   ]
  },
  {
   "cell_type": "code",
   "execution_count": null,
   "metadata": {},
   "outputs": [],
   "source": [
    "# Work with Issues\n",
    "issue = repo.create_issue(\n",
    "title=\"Bug in login\",\n",
    "body=\"Login fails when ... \",\n",
    "labels=[\"bug\", \"urgent\"]\n",
    ")"
   ]
  },
  {
   "cell_type": "code",
   "execution_count": null,
   "metadata": {},
   "outputs": [],
   "source": [
    "# Review Comments\n",
    "pr = repo.get_pull(123)\n",
    "pr.create_review_comment(\n",
    "body=\"Consider using a different app\",\n",
    "commit_id=\"commit_sha\",\n",
    "path=\"file.py\",\n",
    "line=10,\n",
    ")"
   ]
  },
  {
   "cell_type": "code",
   "execution_count": null,
   "metadata": {},
   "outputs": [],
   "source": [
    "# Repository Management\n",
    "repo.create_file(\n",
    "path=\"docs/README.nd\",\n",
    "message=\"Add documentation\",\n",
    "content=\"# Project Documentation\",\n",
    "branch=\"main\"\n",
    ")"
   ]
  },
  {
   "cell_type": "code",
   "execution_count": null,
   "metadata": {},
   "outputs": [],
   "source": []
  }
 ],
 "metadata": {
  "kernelspec": {
   "display_name": "Python 3",
   "language": "python",
   "name": "python3"
  },
  "language_info": {
   "codemirror_mode": {
    "name": "ipython",
    "version": 3
   },
   "file_extension": ".py",
   "mimetype": "text/x-python",
   "name": "python",
   "nbconvert_exporter": "python",
   "pygments_lexer": "ipython3",
   "version": "3.11.9"
  }
 },
 "nbformat": 4,
 "nbformat_minor": 2
}
