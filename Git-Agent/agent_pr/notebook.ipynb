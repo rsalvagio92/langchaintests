{
 "cells": [
  {
   "cell_type": "code",
   "execution_count": 20,
   "metadata": {},
   "outputs": [],
   "source": [
    "#from agent_claude import run_agent\n",
    "from agent_openai import run_agent\n",
    "import os\n",
    "from dotenv import load_dotenv\n",
    "\n",
    "load_dotenv()\n",
    "openai_api_key = os.getenv(\"OPENAI_API_KEY\")\n",
    "GITHUB_TOKEN = os.getenv(\"GITHUB_TOKEN\")\n",
    "if not GITHUB_TOKEN:\n",
    "    raise ValueError(\"No GITHUB_TOKEN variable\")\n",
    "\n",
    "REPO_NAME = \"rsalvagio92/Wild-Nomad\""
   ]
  },
  {
   "cell_type": "code",
   "execution_count": 21,
   "metadata": {},
   "outputs": [
    {
     "name": "stdout",
     "output_type": "stream",
     "text": [
      "Failed to initialize agent\n",
      "\n",
      "Failed to generate solution\n"
     ]
    }
   ],
   "source": [
    "\n",
    "result = run_agent(GITHUB_TOKEN, REPO_NAME)\n",
    "\n",
    "if result [\"status\"] == \"completed\":\n",
    "    print(\"\\nSolution generated successfully!\")\n",
    "    if result.get(\"pr_url\"):\n",
    "        print(f\"\\nPull Request created at: {result['pr_url']}\")\n",
    "    if result.get(\"generation\"):\n",
    "        print(\"\\nGenerated Code:\")\n",
    "        print(result[\"generation\"] )\n",
    "else:\n",
    "    print(\"\\nFailed to generate solution\")"
   ]
  },
  {
   "cell_type": "code",
   "execution_count": null,
   "metadata": {},
   "outputs": [],
   "source": []
  }
 ],
 "metadata": {
  "kernelspec": {
   "display_name": "Python 3",
   "language": "python",
   "name": "python3"
  },
  "language_info": {
   "codemirror_mode": {
    "name": "ipython",
    "version": 3
   },
   "file_extension": ".py",
   "mimetype": "text/x-python",
   "name": "python",
   "nbconvert_exporter": "python",
   "pygments_lexer": "ipython3",
   "version": "3.11.9"
  }
 },
 "nbformat": 4,
 "nbformat_minor": 2
}
